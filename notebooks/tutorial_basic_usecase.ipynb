{
 "cells": [
  {
   "cell_type": "code",
   "execution_count": 1,
   "id": "de548fca-df9d-4d8c-8a00-4c6178a42c52",
   "metadata": {},
   "outputs": [],
   "source": [
    "from mfethuls import parse as pa"
   ]
  },
  {
   "cell_type": "code",
   "execution_count": 2,
   "id": "9c5709b8-a3b3-43d8-b2b9-cdedd2fc87fc",
   "metadata": {},
   "outputs": [
    {
     "name": "stdout",
     "output_type": "stream",
     "text": [
      "C:\\Users\\BertossL\\OneDrive - Université de Fribourg\\Documents\\DSC\\LUB180\\!$LUB180_DSC.txt\n"
     ]
    },
    {
     "data": {
      "text/html": [
       "<div>\n",
       "<style scoped>\n",
       "    .dataframe tbody tr th:only-of-type {\n",
       "        vertical-align: middle;\n",
       "    }\n",
       "\n",
       "    .dataframe tbody tr th {\n",
       "        vertical-align: top;\n",
       "    }\n",
       "\n",
       "    .dataframe thead th {\n",
       "        text-align: right;\n",
       "    }\n",
       "</style>\n",
       "<table border=\"1\" class=\"dataframe\">\n",
       "  <thead>\n",
       "    <tr style=\"text-align: right;\">\n",
       "      <th></th>\n",
       "      <th>Index</th>\n",
       "      <th>t</th>\n",
       "      <th>Ts</th>\n",
       "      <th>Tr</th>\n",
       "      <th>Value</th>\n",
       "      <th>name</th>\n",
       "      <th>cycle</th>\n",
       "    </tr>\n",
       "  </thead>\n",
       "  <tbody>\n",
       "    <tr>\n",
       "      <th>1</th>\n",
       "      <td>0.0</td>\n",
       "      <td>0.0</td>\n",
       "      <td>-80.000</td>\n",
       "      <td>-80.000</td>\n",
       "      <td>0.003475</td>\n",
       "      <td>LUB180</td>\n",
       "      <td>Isothermal</td>\n",
       "    </tr>\n",
       "    <tr>\n",
       "      <th>2</th>\n",
       "      <td>1.0</td>\n",
       "      <td>1.0</td>\n",
       "      <td>-80.000</td>\n",
       "      <td>-80.000</td>\n",
       "      <td>0.002409</td>\n",
       "      <td>LUB180</td>\n",
       "      <td>Isothermal</td>\n",
       "    </tr>\n",
       "    <tr>\n",
       "      <th>3</th>\n",
       "      <td>2.0</td>\n",
       "      <td>2.0</td>\n",
       "      <td>-80.000</td>\n",
       "      <td>-80.000</td>\n",
       "      <td>0.001769</td>\n",
       "      <td>LUB180</td>\n",
       "      <td>Isothermal</td>\n",
       "    </tr>\n",
       "    <tr>\n",
       "      <th>4</th>\n",
       "      <td>3.0</td>\n",
       "      <td>3.0</td>\n",
       "      <td>-80.000</td>\n",
       "      <td>-80.000</td>\n",
       "      <td>0.000732</td>\n",
       "      <td>LUB180</td>\n",
       "      <td>Isothermal</td>\n",
       "    </tr>\n",
       "    <tr>\n",
       "      <th>5</th>\n",
       "      <td>4.0</td>\n",
       "      <td>4.0</td>\n",
       "      <td>-80.000</td>\n",
       "      <td>-80.000</td>\n",
       "      <td>-0.000345</td>\n",
       "      <td>LUB180</td>\n",
       "      <td>Isothermal</td>\n",
       "    </tr>\n",
       "    <tr>\n",
       "      <th>...</th>\n",
       "      <td>...</td>\n",
       "      <td>...</td>\n",
       "      <td>...</td>\n",
       "      <td>...</td>\n",
       "      <td>...</td>\n",
       "      <td>...</td>\n",
       "      <td>...</td>\n",
       "    </tr>\n",
       "    <tr>\n",
       "      <th>7467</th>\n",
       "      <td>7466.0</td>\n",
       "      <td>7466.0</td>\n",
       "      <td>25.708</td>\n",
       "      <td>25.667</td>\n",
       "      <td>0.294302</td>\n",
       "      <td>LUB180</td>\n",
       "      <td>Cooling_1</td>\n",
       "    </tr>\n",
       "    <tr>\n",
       "      <th>7468</th>\n",
       "      <td>7467.0</td>\n",
       "      <td>7467.0</td>\n",
       "      <td>25.542</td>\n",
       "      <td>25.500</td>\n",
       "      <td>0.294218</td>\n",
       "      <td>LUB180</td>\n",
       "      <td>Cooling_1</td>\n",
       "    </tr>\n",
       "    <tr>\n",
       "      <th>7469</th>\n",
       "      <td>7468.0</td>\n",
       "      <td>7468.0</td>\n",
       "      <td>25.375</td>\n",
       "      <td>25.333</td>\n",
       "      <td>0.294151</td>\n",
       "      <td>LUB180</td>\n",
       "      <td>Cooling_1</td>\n",
       "    </tr>\n",
       "    <tr>\n",
       "      <th>7470</th>\n",
       "      <td>7469.0</td>\n",
       "      <td>7469.0</td>\n",
       "      <td>25.208</td>\n",
       "      <td>25.167</td>\n",
       "      <td>0.294089</td>\n",
       "      <td>LUB180</td>\n",
       "      <td>Cooling_1</td>\n",
       "    </tr>\n",
       "    <tr>\n",
       "      <th>7471</th>\n",
       "      <td>7470.0</td>\n",
       "      <td>7470.0</td>\n",
       "      <td>25.041</td>\n",
       "      <td>25.000</td>\n",
       "      <td>0.294038</td>\n",
       "      <td>LUB180</td>\n",
       "      <td>Cooling_1</td>\n",
       "    </tr>\n",
       "  </tbody>\n",
       "</table>\n",
       "<p>7471 rows × 7 columns</p>\n",
       "</div>"
      ],
      "text/plain": [
       "       Index       t      Ts      Tr     Value    name       cycle\n",
       "1        0.0     0.0 -80.000 -80.000  0.003475  LUB180  Isothermal\n",
       "2        1.0     1.0 -80.000 -80.000  0.002409  LUB180  Isothermal\n",
       "3        2.0     2.0 -80.000 -80.000  0.001769  LUB180  Isothermal\n",
       "4        3.0     3.0 -80.000 -80.000  0.000732  LUB180  Isothermal\n",
       "5        4.0     4.0 -80.000 -80.000 -0.000345  LUB180  Isothermal\n",
       "...      ...     ...     ...     ...       ...     ...         ...\n",
       "7467  7466.0  7466.0  25.708  25.667  0.294302  LUB180   Cooling_1\n",
       "7468  7467.0  7467.0  25.542  25.500  0.294218  LUB180   Cooling_1\n",
       "7469  7468.0  7468.0  25.375  25.333  0.294151  LUB180   Cooling_1\n",
       "7470  7469.0  7469.0  25.208  25.167  0.294089  LUB180   Cooling_1\n",
       "7471  7470.0  7470.0  25.041  25.000  0.294038  LUB180   Cooling_1\n",
       "\n",
       "[7471 rows x 7 columns]"
      ]
     },
     "execution_count": 2,
     "metadata": {},
     "output_type": "execute_result"
    }
   ],
   "source": [
    "kw = 'dsc'\n",
    "df = pa.get_data(pa.path_constructor(kw, 'LUB180'), kw)\n",
    "df"
   ]
  },
  {
   "cell_type": "code",
   "execution_count": 5,
   "id": "c52ebc2a-fb3b-4f3f-a3e6-29e953cc35bc",
   "metadata": {},
   "outputs": [
    {
     "data": {
      "text/plain": [
       "<Axes: xlabel='Tr'>"
      ]
     },
     "execution_count": 5,
     "metadata": {},
     "output_type": "execute_result"
    },
    {
     "data": {
      "image/png": "[encoded data removed]",
      "text/plain": [
       "<Figure size 640x480 with 1 Axes>"
      ]
     },
     "metadata": {},
     "output_type": "display_data"
    }
   ],
   "source": [
    "df[df.cycle == 'Heating_1'].plot(x='Tr', y='Value')"
   ]
  },
  {
   "cell_type": "code",
   "execution_count": null,
   "id": "78ffe0b4-15ae-4e7f-aa5b-0c387fa4d156",
   "metadata": {},
   "outputs": [],
   "source": []
  }
 ],
 "metadata": {
  "kernelspec": {
   "display_name": "Python 3 (ipykernel)",
   "language": "python",
   "name": "python3"
  },
  "language_info": {
   "codemirror_mode": {
    "name": "ipython",
    "version": 3
   },
   "file_extension": ".py",
   "mimetype": "text/x-python",
   "name": "python",
   "nbconvert_exporter": "python",
   "pygments_lexer": "ipython3",
   "version": "3.11.9"
  }
 },
 "nbformat": 4,
 "nbformat_minor": 5
}
