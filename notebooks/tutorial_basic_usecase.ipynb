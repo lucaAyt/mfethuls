{
 "cells": [
  {
   "cell_type": "code",
   "execution_count": null,
   "id": "de548fca-df9d-4d8c-8a00-4c6178a42c52",
   "metadata": {},
   "outputs": [],
   "source": [
    "from mfethuls.config_loader import load_instruments_from_json"
   ]
  },
  {
   "cell_type": "code",
   "execution_count": null,
   "id": "c9d8cb69-b39e-4c3b-ae02-bc40285580d7",
   "metadata": {},
   "outputs": [],
   "source": [
    "# Example filter: only load specific instruments by name, type, or model\n",
    "filters = {\n",
    "    \"name\": [\"dsc\"],\n",
    "    # \"type\": [\"dsc\"],\n",
    "    # \"model\": [\"prior\"]\n",
    "}"
   ]
  },
  {
   "cell_type": "code",
   "execution_count": null,
   "id": "c011c7db-bfa1-48c2-aaca-aff502281f02",
   "metadata": {},
   "outputs": [],
   "source": [
    "# Load instruments and data paths for each\n",
    "dict_instr, dict_data_paths = load_instruments_from_json(filters=filters, experiments='LUB180')\n",
    "\n",
    "# Load data for instrument and specific experiments\n",
    "dict_data_df = {}\n",
    "for name, instr in dict_instr.items():\n",
    "    dict_data_df[name] = instr.parse_data(dict_data_paths[name])\n",
    "df = dict_data_df.get('dsc')\n",
    "df"
   ]
  },
  {
   "cell_type": "code",
   "execution_count": null,
   "id": "c52ebc2a-fb3b-4f3f-a3e6-29e953cc35bc",
   "metadata": {},
   "outputs": [],
   "source": [
    "df[df.profile == 'Heating_1'].plot(x='Ts [°C]', y='Value [Wg^-1]')"
   ]
  }
 ],
 "metadata": {
  "kernelspec": {
   "display_name": "Python 3 (ipykernel)",
   "language": "python",
   "name": "python3"
  },
  "language_info": {
   "codemirror_mode": {
    "name": "ipython",
    "version": 3
   },
   "file_extension": ".py",
   "mimetype": "text/x-python",
   "name": "python",
   "nbconvert_exporter": "python",
   "pygments_lexer": "ipython3",
   "version": "3.11.9"
  }
 },
 "nbformat": 4,
 "nbformat_minor": 5
}
