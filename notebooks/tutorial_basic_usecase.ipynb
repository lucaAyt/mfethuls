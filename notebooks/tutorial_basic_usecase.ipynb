{
 "cells": [
  {
   "cell_type": "code",
   "execution_count": null,
   "id": "de548fca-df9d-4d8c-8a00-4c6178a42c52",
   "metadata": {},
   "outputs": [],
   "source": [
    "from mfethuls import parse as pa"
   ]
  },
  {
   "cell_type": "code",
   "execution_count": null,
   "id": "9c5709b8-a3b3-43d8-b2b9-cdedd2fc87fc",
   "metadata": {},
   "outputs": [],
   "source": [
    "kw = 'dsc'\n",
    "df = pa.get_data(pa.path_constructor(kw, 'LUB180'), kw)\n",
    "df"
   ]
  },
  {
   "cell_type": "code",
   "execution_count": null,
   "id": "c52ebc2a-fb3b-4f3f-a3e6-29e953cc35bc",
   "metadata": {},
   "outputs": [],
   "source": [
    "df[df.cycle == 'Heating_1'].plot(x='Tr', y='Value')"
   ]
  }
 ],
 "metadata": {
  "kernelspec": {
   "display_name": "Python 3 (ipykernel)",
   "language": "python",
   "name": "python3"
  },
  "language_info": {
   "codemirror_mode": {
    "name": "ipython",
    "version": 3
   },
   "file_extension": ".py",
   "mimetype": "text/x-python",
   "name": "python",
   "nbconvert_exporter": "python",
   "pygments_lexer": "ipython3",
   "version": "3.11.9"
  }
 },
 "nbformat": 4,
 "nbformat_minor": 5
}
