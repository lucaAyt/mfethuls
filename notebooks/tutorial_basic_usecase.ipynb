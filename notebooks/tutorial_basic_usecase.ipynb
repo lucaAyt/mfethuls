{
 "cells": [
  {
   "cell_type": "code",
   "execution_count": null,
   "id": "de548fca-df9d-4d8c-8a00-4c6178a42c52",
   "metadata": {},
   "outputs": [],
   "source": [
    "from mfethuls.config_loader import prepare_instruments"
   ]
  },
  {
   "cell_type": "code",
   "execution_count": null,
   "id": "c9d8cb69-b39e-4c3b-ae02-bc40285580d7",
   "metadata": {},
   "outputs": [],
   "source": [
    "# Example filter: only load specific instruments by name, type, or model\n",
    "filters = {\n",
    "    \"name\": [\"dsc\"],\n",
    "    # \"type\": [\"dsc\"],\n",
    "    # \"model\": [\"prior\"]\n",
    "}\n",
    "\n",
    "# Can be a single string or a list[str] for multiple experiments or None for all in parent directory\n",
    "experiments = 'LUB180'"
   ]
  },
  {
   "cell_type": "code",
   "execution_count": null,
   "id": "60b33ef5-c0e0-4fca-a2fb-877264255637",
   "metadata": {},
   "outputs": [],
   "source": [
    "# Load instruments and data paths for each\n",
    "bundle = prepare_instruments(filters=filters, experiments=experiments)"
   ]
  },
  {
   "cell_type": "code",
   "execution_count": null,
   "id": "64d33330-9712-4293-84f1-f47c7a07dbf2",
   "metadata": {},
   "outputs": [],
   "source": [
    "# Have a look at our instrument and path bundle\n",
    "for name, instr in bundle.instruments.items():\n",
    "    print(f\"{name}: {instr}\")\n",
    "    print(\"Data paths:\", bundle.data_paths[name])"
   ]
  },
  {
   "cell_type": "code",
   "execution_count": null,
   "id": "c011c7db-bfa1-48c2-aaca-aff502281f02",
   "metadata": {},
   "outputs": [],
   "source": [
    "# Load data for instrument and specific experiments\n",
    "dict_data_df = {}\n",
    "for name, instr in bundle.instruments.items():\n",
    "    dict_data_df[name] = instr.parse_data(bundle.data_paths[name])\n",
    "dict_data_df"
   ]
  },
  {
   "cell_type": "code",
   "execution_count": null,
   "id": "c52ebc2a-fb3b-4f3f-a3e6-29e953cc35bc",
   "metadata": {},
   "outputs": [],
   "source": [
    "# Grab the dataframe from instrument of interest\n",
    "df = dict_data_df.get('dsc')\n",
    "\n",
    "# Lets plot our first heating\n",
    "df[df.profile == 'Heating_1'].plot(x='Tr [°C]', y='Value [Wg^-1]')"
   ]
  }
 ],
 "metadata": {
  "kernelspec": {
   "display_name": "Python 3 (ipykernel)",
   "language": "python",
   "name": "python3"
  },
  "language_info": {
   "codemirror_mode": {
    "name": "ipython",
    "version": 3
   },
   "file_extension": ".py",
   "mimetype": "text/x-python",
   "name": "python",
   "nbconvert_exporter": "python",
   "pygments_lexer": "ipython3",
   "version": "3.11.9"
  }
 },
 "nbformat": 4,
 "nbformat_minor": 5
}
