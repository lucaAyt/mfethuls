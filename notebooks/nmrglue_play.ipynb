{
 "cells": [
  {
   "cell_type": "code",
   "execution_count": 1,
   "id": "ed5c8ddd",
   "metadata": {},
   "outputs": [],
   "source": [
    "import os\n",
    "import re\n",
    "import sys\n",
    "\n",
    "sys.path.append(os.path.join('..'))\n",
    "sys.path.append(os.path.join('..', 'src'))\n",
    "sys.path.append(os.path.join('..', 'src', 'libs'))\n",
    "\n",
    "from dotenv import load_dotenv\n",
    "import pandas as pd\n",
    "import matplotlib.pyplot as plt\n",
    "import nmrglue as ng\n",
    "\n",
    "from ami_utils import parse as pa"
   ]
  },
  {
   "cell_type": "code",
   "execution_count": 2,
   "id": "4bce65e1",
   "metadata": {},
   "outputs": [],
   "source": [
    "path = f'C:\\\\Users\\\\BertossL\\\\Documents\\\\NMR\\\\Mebip'\n",
    "\n",
    "dic, data = ng.bruker.read_pdata(os.path.join(path, '1', 'pdata', '1'))\n",
    "udic = ng.bruker.guess_udic(dic, data)\n",
    "uc = ng.fileiobase.uc_from_udic(udic, 0)"
   ]
  },
  {
   "cell_type": "code",
   "execution_count": 3,
   "id": "d7c50419",
   "metadata": {},
   "outputs": [
    {
     "data": {
      "text/plain": [
       "[<matplotlib.lines.Line2D at 0x241ad9e0850>]"
      ]
     },
     "execution_count": 3,
     "metadata": {},
     "output_type": "execute_result"
    },
    {
     "data": {
      "image/png": "[encoded data removed]",
      "text/plain": [
       "<Figure size 640x480 with 1 Axes>"
      ]
     },
     "metadata": {},
     "output_type": "display_data"
    }
   ],
   "source": [
    "fig, ax = plt.subplots()\n",
    "\n",
    "ax.set_xlim(13, 0)\n",
    "ax.plot(uc.ppm_scale(), data)"
   ]
  },
  {
   "cell_type": "code",
   "execution_count": 16,
   "id": "c842c4ef",
   "metadata": {},
   "outputs": [],
   "source": [
    "%matplotlib qt\n",
    "\n",
    "dic, data = ng.bruker.read(os.path.join(path, '1'))\n",
    "\n",
    "# remove the digital filter\n",
    "data = ng.bruker.remove_digital_filter(dic, data)\n",
    "\n",
    "# process the spectrum\n",
    "data = ng.proc_base.zf_size(data, 32768)    # zero fill to 32768 points\n",
    "data = ng.proc_base.fft(data)               # Fourier transform\n",
    "data = ng.proc_base.ps(data, p0=-50.0)      # phase correction\n",
    "data = ng.proc_base.di(data)                # discard the imaginaries\n",
    "data = ng.proc_base.rev(data)               # reverse the data\n",
    "data = ng.proc_bl.cbf(data)\n",
    "\n",
    "udic = ng.bruker.guess_udic(dic, data)\n",
    "uc = ng.fileiobase.uc_from_udic(udic, 0)"
   ]
  },
  {
   "cell_type": "code",
   "execution_count": 17,
   "id": "a9182064",
   "metadata": {},
   "outputs": [
    {
     "data": {
      "text/plain": [
       "[<matplotlib.lines.Line2D at 0x241b3d29910>]"
      ]
     },
     "execution_count": 17,
     "metadata": {},
     "output_type": "execute_result"
    }
   ],
   "source": [
    "fig = plt.figure()\n",
    "ax = fig.add_subplot(111)\n",
    "ax.set_xlim(13, 0)\n",
    "ax.plot(uc.ppm_scale(), data)"
   ]
  },
  {
   "cell_type": "code",
   "execution_count": null,
   "id": "49ae5fdd",
   "metadata": {},
   "outputs": [],
   "source": []
  },
  {
   "cell_type": "code",
   "execution_count": null,
   "id": "1dd071be",
   "metadata": {},
   "outputs": [],
   "source": []
  }
 ],
 "metadata": {
  "kernelspec": {
   "display_name": "Python 3 (ipykernel)",
   "language": "python",
   "name": "python3"
  },
  "language_info": {
   "codemirror_mode": {
    "name": "ipython",
    "version": 3
   },
   "file_extension": ".py",
   "mimetype": "text/x-python",
   "name": "python",
   "nbconvert_exporter": "python",
   "pygments_lexer": "ipython3",
   "version": "3.11.3"
  }
 },
 "nbformat": 4,
 "nbformat_minor": 5
}
